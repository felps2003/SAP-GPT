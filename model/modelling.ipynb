{
 "cells": [
  {
   "cell_type": "code",
   "execution_count": 2,
   "metadata": {},
   "outputs": [
    {
     "name": "stdout",
     "output_type": "stream",
     "text": [
      "Defaulting to user installation because normal site-packages is not writeable\n",
      "Collecting torch\n",
      "  Downloading torch-2.0.1-cp39-none-macosx_11_0_arm64.whl (55.8 MB)\n",
      "\u001b[2K     \u001b[90m━━━━━━━━━━━━━━━━━━━━━━━━━━━━━━━━━━━━━━━━\u001b[0m \u001b[32m55.8/55.8 MB\u001b[0m \u001b[31m5.6 MB/s\u001b[0m eta \u001b[36m0:00:00\u001b[0m00:01\u001b[0m00:01\u001b[0m\n",
      "\u001b[?25hCollecting filelock (from torch)\n",
      "  Obtaining dependency information for filelock from https://files.pythonhosted.org/packages/00/45/ec3407adf6f6b5bf867a4462b2b0af27597a26bd3cd6e2534cb6ab029938/filelock-3.12.2-py3-none-any.whl.metadata\n",
      "  Using cached filelock-3.12.2-py3-none-any.whl.metadata (2.7 kB)\n",
      "Requirement already satisfied: typing-extensions in /Users/henricobela/Library/Python/3.9/lib/python/site-packages (from torch) (4.5.0)\n",
      "Requirement already satisfied: sympy in /Users/henricobela/Library/Python/3.9/lib/python/site-packages (from torch) (1.12)\n",
      "Requirement already satisfied: networkx in /Users/henricobela/Library/Python/3.9/lib/python/site-packages (from torch) (3.1)\n",
      "Requirement already satisfied: jinja2 in /Users/henricobela/Library/Python/3.9/lib/python/site-packages (from torch) (3.1.2)\n",
      "Requirement already satisfied: MarkupSafe>=2.0 in /Users/henricobela/Library/Python/3.9/lib/python/site-packages (from jinja2->torch) (2.1.2)\n",
      "Requirement already satisfied: mpmath>=0.19 in /Users/henricobela/Library/Python/3.9/lib/python/site-packages (from sympy->torch) (1.3.0)\n",
      "Using cached filelock-3.12.2-py3-none-any.whl (10 kB)\n",
      "Installing collected packages: filelock, torch\n",
      "Successfully installed filelock-3.12.2 torch-2.0.1\n",
      "Note: you may need to restart the kernel to use updated packages.\n",
      "Defaulting to user installation because normal site-packages is not writeable\n",
      "Collecting torchvision\n",
      "  Downloading torchvision-0.15.2-cp39-cp39-macosx_11_0_arm64.whl (1.4 MB)\n",
      "\u001b[2K     \u001b[90m━━━━━━━━━━━━━━━━━━━━━━━━━━━━━━━━━━━━━━━━\u001b[0m \u001b[32m1.4/1.4 MB\u001b[0m \u001b[31m5.9 MB/s\u001b[0m eta \u001b[36m0:00:00\u001b[0ma \u001b[36m0:00:01\u001b[0m\n",
      "\u001b[?25hRequirement already satisfied: numpy in /Users/henricobela/Library/Python/3.9/lib/python/site-packages (from torchvision) (1.24.3)\n",
      "Requirement already satisfied: requests in /Users/henricobela/Library/Python/3.9/lib/python/site-packages (from torchvision) (2.31.0)\n",
      "Requirement already satisfied: torch==2.0.1 in /Users/henricobela/Library/Python/3.9/lib/python/site-packages (from torchvision) (2.0.1)\n",
      "Requirement already satisfied: pillow!=8.3.*,>=5.3.0 in /Users/henricobela/Library/Python/3.9/lib/python/site-packages (from torchvision) (9.3.0)\n",
      "Requirement already satisfied: filelock in /Users/henricobela/Library/Python/3.9/lib/python/site-packages (from torch==2.0.1->torchvision) (3.12.2)\n",
      "Requirement already satisfied: typing-extensions in /Users/henricobela/Library/Python/3.9/lib/python/site-packages (from torch==2.0.1->torchvision) (4.5.0)\n",
      "Requirement already satisfied: sympy in /Users/henricobela/Library/Python/3.9/lib/python/site-packages (from torch==2.0.1->torchvision) (1.12)\n",
      "Requirement already satisfied: networkx in /Users/henricobela/Library/Python/3.9/lib/python/site-packages (from torch==2.0.1->torchvision) (3.1)\n",
      "Requirement already satisfied: jinja2 in /Users/henricobela/Library/Python/3.9/lib/python/site-packages (from torch==2.0.1->torchvision) (3.1.2)\n",
      "Requirement already satisfied: charset-normalizer<4,>=2 in /Users/henricobela/Library/Python/3.9/lib/python/site-packages (from requests->torchvision) (3.0.1)\n",
      "Requirement already satisfied: idna<4,>=2.5 in /Users/henricobela/Library/Python/3.9/lib/python/site-packages (from requests->torchvision) (3.4)\n",
      "Requirement already satisfied: urllib3<3,>=1.21.1 in /Users/henricobela/Library/Python/3.9/lib/python/site-packages (from requests->torchvision) (1.26.14)\n",
      "Requirement already satisfied: certifi>=2017.4.17 in /Users/henricobela/Library/Python/3.9/lib/python/site-packages (from requests->torchvision) (2022.12.7)\n",
      "Requirement already satisfied: MarkupSafe>=2.0 in /Users/henricobela/Library/Python/3.9/lib/python/site-packages (from jinja2->torch==2.0.1->torchvision) (2.1.2)\n",
      "Requirement already satisfied: mpmath>=0.19 in /Users/henricobela/Library/Python/3.9/lib/python/site-packages (from sympy->torch==2.0.1->torchvision) (1.3.0)\n",
      "Installing collected packages: torchvision\n",
      "Successfully installed torchvision-0.15.2\n",
      "Note: you may need to restart the kernel to use updated packages.\n",
      "Defaulting to user installation because normal site-packages is not writeable\n",
      "Requirement already satisfied: opencv-python in /Users/henricobela/Library/Python/3.9/lib/python/site-packages (4.7.0.72)\n",
      "Requirement already satisfied: numpy>=1.21.0 in /Users/henricobela/Library/Python/3.9/lib/python/site-packages (from opencv-python) (1.24.3)\n",
      "Note: you may need to restart the kernel to use updated packages.\n",
      "Defaulting to user installation because normal site-packages is not writeable\n",
      "Requirement already satisfied: numpy in /Users/henricobela/Library/Python/3.9/lib/python/site-packages (1.24.3)\n",
      "Note: you may need to restart the kernel to use updated packages.\n",
      "Defaulting to user installation because normal site-packages is not writeable\n",
      "Requirement already satisfied: matplotlib in /Users/henricobela/Library/Python/3.9/lib/python/site-packages (3.7.0)\n",
      "Requirement already satisfied: contourpy>=1.0.1 in /Users/henricobela/Library/Python/3.9/lib/python/site-packages (from matplotlib) (1.0.7)\n",
      "Requirement already satisfied: cycler>=0.10 in /Users/henricobela/Library/Python/3.9/lib/python/site-packages (from matplotlib) (0.11.0)\n",
      "Requirement already satisfied: fonttools>=4.22.0 in /Users/henricobela/Library/Python/3.9/lib/python/site-packages (from matplotlib) (4.38.0)\n",
      "Requirement already satisfied: kiwisolver>=1.0.1 in /Users/henricobela/Library/Python/3.9/lib/python/site-packages (from matplotlib) (1.4.4)\n",
      "Requirement already satisfied: numpy>=1.20 in /Users/henricobela/Library/Python/3.9/lib/python/site-packages (from matplotlib) (1.24.3)\n",
      "Requirement already satisfied: packaging>=20.0 in /Users/henricobela/Library/Python/3.9/lib/python/site-packages (from matplotlib) (23.0)\n",
      "Requirement already satisfied: pillow>=6.2.0 in /Users/henricobela/Library/Python/3.9/lib/python/site-packages (from matplotlib) (9.3.0)\n",
      "Requirement already satisfied: pyparsing>=2.3.1 in /Users/henricobela/Library/Python/3.9/lib/python/site-packages (from matplotlib) (3.0.9)\n",
      "Requirement already satisfied: python-dateutil>=2.7 in /Users/henricobela/Library/Python/3.9/lib/python/site-packages (from matplotlib) (2.8.1)\n",
      "Requirement already satisfied: importlib-resources>=3.2.0 in /Users/henricobela/Library/Python/3.9/lib/python/site-packages (from matplotlib) (5.12.0)\n",
      "Requirement already satisfied: zipp>=3.1.0 in /Users/henricobela/Library/Python/3.9/lib/python/site-packages (from importlib-resources>=3.2.0->matplotlib) (3.11.0)\n",
      "Requirement already satisfied: six>=1.5 in /Library/Developer/CommandLineTools/Library/Frameworks/Python3.framework/Versions/3.9/lib/python3.9/site-packages (from python-dateutil>=2.7->matplotlib) (1.15.0)\n",
      "Note: you may need to restart the kernel to use updated packages.\n"
     ]
    }
   ],
   "source": [
    "%pip install torch\n",
    "%pip install torchvision\n",
    "%pip install opencv-python\n",
    "%pip install numpy\n",
    "%pip install matplotlib"
   ]
  },
  {
   "cell_type": "code",
   "execution_count": 4,
   "metadata": {},
   "outputs": [
    {
     "name": "stdout",
     "output_type": "stream",
     "text": [
      "Defaulting to user installation because normal site-packages is not writeable\n",
      "Collecting ultralytics\n",
      "  Obtaining dependency information for ultralytics from https://files.pythonhosted.org/packages/85/38/541d6f06ab971c80408efcec6ec23f6ad0745722caf8055d9fcde8f6c223/ultralytics-8.0.147-py3-none-any.whl.metadata\n",
      "  Downloading ultralytics-8.0.147-py3-none-any.whl.metadata (28 kB)\n",
      "Requirement already satisfied: matplotlib>=3.2.2 in /Users/henricobela/Library/Python/3.9/lib/python/site-packages (from ultralytics) (3.7.0)\n",
      "Requirement already satisfied: numpy>=1.22.2 in /Users/henricobela/Library/Python/3.9/lib/python/site-packages (from ultralytics) (1.24.3)\n",
      "Requirement already satisfied: opencv-python>=4.6.0 in /Users/henricobela/Library/Python/3.9/lib/python/site-packages (from ultralytics) (4.7.0.72)\n",
      "Requirement already satisfied: pillow>=7.1.2 in /Users/henricobela/Library/Python/3.9/lib/python/site-packages (from ultralytics) (9.3.0)\n",
      "Requirement already satisfied: pyyaml>=5.3.1 in /Users/henricobela/Library/Python/3.9/lib/python/site-packages (from ultralytics) (6.0)\n",
      "Requirement already satisfied: requests>=2.23.0 in /Users/henricobela/Library/Python/3.9/lib/python/site-packages (from ultralytics) (2.31.0)\n",
      "Requirement already satisfied: scipy>=1.4.1 in /Users/henricobela/Library/Python/3.9/lib/python/site-packages (from ultralytics) (1.9.1)\n",
      "Requirement already satisfied: torch>=1.7.0 in /Users/henricobela/Library/Python/3.9/lib/python/site-packages (from ultralytics) (2.0.1)\n",
      "Requirement already satisfied: torchvision>=0.8.1 in /Users/henricobela/Library/Python/3.9/lib/python/site-packages (from ultralytics) (0.15.2)\n",
      "Requirement already satisfied: tqdm>=4.64.0 in /Users/henricobela/Library/Python/3.9/lib/python/site-packages (from ultralytics) (4.64.1)\n",
      "Requirement already satisfied: pandas>=1.1.4 in /Users/henricobela/Library/Python/3.9/lib/python/site-packages (from ultralytics) (1.5.3)\n",
      "Requirement already satisfied: seaborn>=0.11.0 in /Users/henricobela/Library/Python/3.9/lib/python/site-packages (from ultralytics) (0.12.2)\n",
      "Requirement already satisfied: psutil in /Users/henricobela/Library/Python/3.9/lib/python/site-packages (from ultralytics) (5.9.4)\n",
      "Collecting py-cpuinfo (from ultralytics)\n",
      "  Downloading py_cpuinfo-9.0.0-py3-none-any.whl (22 kB)\n",
      "Requirement already satisfied: contourpy>=1.0.1 in /Users/henricobela/Library/Python/3.9/lib/python/site-packages (from matplotlib>=3.2.2->ultralytics) (1.0.7)\n",
      "Requirement already satisfied: cycler>=0.10 in /Users/henricobela/Library/Python/3.9/lib/python/site-packages (from matplotlib>=3.2.2->ultralytics) (0.11.0)\n",
      "Requirement already satisfied: fonttools>=4.22.0 in /Users/henricobela/Library/Python/3.9/lib/python/site-packages (from matplotlib>=3.2.2->ultralytics) (4.38.0)\n",
      "Requirement already satisfied: kiwisolver>=1.0.1 in /Users/henricobela/Library/Python/3.9/lib/python/site-packages (from matplotlib>=3.2.2->ultralytics) (1.4.4)\n",
      "Requirement already satisfied: packaging>=20.0 in /Users/henricobela/Library/Python/3.9/lib/python/site-packages (from matplotlib>=3.2.2->ultralytics) (23.0)\n",
      "Requirement already satisfied: pyparsing>=2.3.1 in /Users/henricobela/Library/Python/3.9/lib/python/site-packages (from matplotlib>=3.2.2->ultralytics) (3.0.9)\n",
      "Requirement already satisfied: python-dateutil>=2.7 in /Users/henricobela/Library/Python/3.9/lib/python/site-packages (from matplotlib>=3.2.2->ultralytics) (2.8.1)\n",
      "Requirement already satisfied: importlib-resources>=3.2.0 in /Users/henricobela/Library/Python/3.9/lib/python/site-packages (from matplotlib>=3.2.2->ultralytics) (5.12.0)\n",
      "Requirement already satisfied: pytz>=2020.1 in /Users/henricobela/Library/Python/3.9/lib/python/site-packages (from pandas>=1.1.4->ultralytics) (2022.7.1)\n",
      "Requirement already satisfied: charset-normalizer<4,>=2 in /Users/henricobela/Library/Python/3.9/lib/python/site-packages (from requests>=2.23.0->ultralytics) (3.0.1)\n",
      "Requirement already satisfied: idna<4,>=2.5 in /Users/henricobela/Library/Python/3.9/lib/python/site-packages (from requests>=2.23.0->ultralytics) (3.4)\n",
      "Requirement already satisfied: urllib3<3,>=1.21.1 in /Users/henricobela/Library/Python/3.9/lib/python/site-packages (from requests>=2.23.0->ultralytics) (1.26.14)\n",
      "Requirement already satisfied: certifi>=2017.4.17 in /Users/henricobela/Library/Python/3.9/lib/python/site-packages (from requests>=2.23.0->ultralytics) (2022.12.7)\n",
      "Requirement already satisfied: filelock in /Users/henricobela/Library/Python/3.9/lib/python/site-packages (from torch>=1.7.0->ultralytics) (3.12.2)\n",
      "Requirement already satisfied: typing-extensions in /Users/henricobela/Library/Python/3.9/lib/python/site-packages (from torch>=1.7.0->ultralytics) (4.5.0)\n",
      "Requirement already satisfied: sympy in /Users/henricobela/Library/Python/3.9/lib/python/site-packages (from torch>=1.7.0->ultralytics) (1.12)\n",
      "Requirement already satisfied: networkx in /Users/henricobela/Library/Python/3.9/lib/python/site-packages (from torch>=1.7.0->ultralytics) (3.1)\n",
      "Requirement already satisfied: jinja2 in /Users/henricobela/Library/Python/3.9/lib/python/site-packages (from torch>=1.7.0->ultralytics) (3.1.2)\n",
      "Requirement already satisfied: zipp>=3.1.0 in /Users/henricobela/Library/Python/3.9/lib/python/site-packages (from importlib-resources>=3.2.0->matplotlib>=3.2.2->ultralytics) (3.11.0)\n",
      "Requirement already satisfied: six>=1.5 in /Library/Developer/CommandLineTools/Library/Frameworks/Python3.framework/Versions/3.9/lib/python3.9/site-packages (from python-dateutil>=2.7->matplotlib>=3.2.2->ultralytics) (1.15.0)\n",
      "Requirement already satisfied: MarkupSafe>=2.0 in /Users/henricobela/Library/Python/3.9/lib/python/site-packages (from jinja2->torch>=1.7.0->ultralytics) (2.1.2)\n",
      "Requirement already satisfied: mpmath>=0.19 in /Users/henricobela/Library/Python/3.9/lib/python/site-packages (from sympy->torch>=1.7.0->ultralytics) (1.3.0)\n",
      "Downloading ultralytics-8.0.147-py3-none-any.whl (606 kB)\n",
      "\u001b[2K   \u001b[90m━━━━━━━━━━━━━━━━━━━━━━━━━━━━━━━━━━━━━━━━\u001b[0m \u001b[32m606.2/606.2 kB\u001b[0m \u001b[31m6.8 MB/s\u001b[0m eta \u001b[36m0:00:00\u001b[0ma \u001b[36m0:00:01\u001b[0m\n",
      "\u001b[?25hInstalling collected packages: py-cpuinfo, ultralytics\n",
      "Successfully installed py-cpuinfo-9.0.0 ultralytics-8.0.147\n",
      "Note: you may need to restart the kernel to use updated packages.\n"
     ]
    }
   ],
   "source": [
    "%pip install ultralytics"
   ]
  },
  {
   "cell_type": "code",
   "execution_count": 5,
   "metadata": {},
   "outputs": [],
   "source": [
    "import torch\n",
    "import torchvision\n",
    "import torch.utils.data as data\n",
    "import torch.optim as optim\n",
    "import torch.nn as nn\n",
    "from ultralytics import YOLO"
   ]
  },
  {
   "cell_type": "code",
   "execution_count": 6,
   "metadata": {},
   "outputs": [],
   "source": [
    "class LabeledImageFolder(torchvision.datasets.ImageFolder):\n",
    "\n",
    "    def __init__(self, root, transform=None, target_transform=None):\n",
    "        super(LabeledImageFolder, self).__init__(root, transform, target_transform)\n",
    "\n",
    "        self.labels = []\n",
    "        for image_name in self.imgs:\n",
    "            print(image_name)\n",
    "            label_name = image_name[0].replace(\".jpg\", \".xml\")\n",
    "            self.labels.append(label_name)\n",
    "\n",
    "    def load_item(self, index):\n",
    "        image = super(LabeledImageFolder, self).load_item(index)\n",
    "        label = self.labels[index]\n",
    "        return image, label"
   ]
  },
  {
   "cell_type": "code",
   "execution_count": 7,
   "metadata": {},
   "outputs": [
    {
     "name": "stdout",
     "output_type": "stream",
     "text": [
      "('data/caixa/784fcde9-estoque-destaque-1024x680.jpg', 0)\n"
     ]
    },
    {
     "name": "stderr",
     "output_type": "stream",
     "text": [
      "Downloading https://github.com/ultralytics/assets/releases/download/v0.0.0/yolov8n.pt to 'yolov8n.pt'...\n",
      "100%|██████████| 6.23M/6.23M [00:00<00:00, 8.94MB/s]\n"
     ]
    },
    {
     "ename": "AttributeError",
     "evalue": "'YOLO' object has no attribute 'parameters'. See valid attributes below.\n\n    YOLO (You Only Look Once) object detection model.\n    ",
     "output_type": "error",
     "traceback": [
      "\u001b[0;31m---------------------------------------------------------------------------\u001b[0m",
      "\u001b[0;31mAttributeError\u001b[0m                            Traceback (most recent call last)",
      "Cell \u001b[0;32mIn[7], line 6\u001b[0m\n\u001b[1;32m      4\u001b[0m \u001b[39m# model = torchvision.models.YOLOv3()\u001b[39;00m\n\u001b[1;32m      5\u001b[0m model \u001b[39m=\u001b[39m YOLO()\n\u001b[0;32m----> 6\u001b[0m optimizer \u001b[39m=\u001b[39m optim\u001b[39m.\u001b[39mAdam(model\u001b[39m.\u001b[39;49mparameters())\n\u001b[1;32m      7\u001b[0m loss_function \u001b[39m=\u001b[39m nn\u001b[39m.\u001b[39mCrossEntropyLoss()\n",
      "File \u001b[0;32m~/Library/Python/3.9/lib/python/site-packages/ultralytics/engine/model.py:445\u001b[0m, in \u001b[0;36mModel.__getattr__\u001b[0;34m(self, attr)\u001b[0m\n\u001b[1;32m    443\u001b[0m \u001b[39m\u001b[39m\u001b[39m\"\"\"Raises error if object has no requested attribute.\"\"\"\u001b[39;00m\n\u001b[1;32m    444\u001b[0m name \u001b[39m=\u001b[39m \u001b[39mself\u001b[39m\u001b[39m.\u001b[39m\u001b[39m__class__\u001b[39m\u001b[39m.\u001b[39m\u001b[39m__name__\u001b[39m\n\u001b[0;32m--> 445\u001b[0m \u001b[39mraise\u001b[39;00m \u001b[39mAttributeError\u001b[39;00m(\u001b[39mf\u001b[39m\u001b[39m\"\u001b[39m\u001b[39m'\u001b[39m\u001b[39m{\u001b[39;00mname\u001b[39m}\u001b[39;00m\u001b[39m'\u001b[39m\u001b[39m object has no attribute \u001b[39m\u001b[39m'\u001b[39m\u001b[39m{\u001b[39;00mattr\u001b[39m}\u001b[39;00m\u001b[39m'\u001b[39m\u001b[39m. See valid attributes below.\u001b[39m\u001b[39m\\n\u001b[39;00m\u001b[39m{\u001b[39;00m\u001b[39mself\u001b[39m\u001b[39m.\u001b[39m\u001b[39m__doc__\u001b[39m\u001b[39m}\u001b[39;00m\u001b[39m\"\u001b[39m)\n",
      "\u001b[0;31mAttributeError\u001b[0m: 'YOLO' object has no attribute 'parameters'. See valid attributes below.\n\n    YOLO (You Only Look Once) object detection model.\n    "
     ]
    }
   ],
   "source": [
    "dataset = LabeledImageFolder(\"data\")\n",
    "# dataset = torchvision.datasets.CocoDetection(\"data\")\n",
    "dataloader = torch.utils.data.DataLoader(dataset, batch_size=32, shuffle=True)\n",
    "# model = torchvision.models.YOLOv3()\n",
    "model = YOLO()\n",
    "optimizer = optim.Adam(model.parameters())\n",
    "loss_function = nn.CrossEntropyLoss()"
   ]
  },
  {
   "cell_type": "code",
   "execution_count": 12,
   "metadata": {},
   "outputs": [
    {
     "ename": "NameError",
     "evalue": "name 'dataloader' is not defined",
     "output_type": "error",
     "traceback": [
      "\u001b[0;31m---------------------------------------------------------------------------\u001b[0m",
      "\u001b[0;31mNameError\u001b[0m                                 Traceback (most recent call last)",
      "Cell \u001b[0;32mIn[12], line 2\u001b[0m\n\u001b[1;32m      1\u001b[0m \u001b[39mfor\u001b[39;00m epoch \u001b[39min\u001b[39;00m \u001b[39mrange\u001b[39m(\u001b[39m10\u001b[39m):\n\u001b[0;32m----> 2\u001b[0m     \u001b[39mfor\u001b[39;00m i, (images, labels) \u001b[39min\u001b[39;00m \u001b[39menumerate\u001b[39m(dataloader):\n\u001b[1;32m      3\u001b[0m         predictions \u001b[39m=\u001b[39m model(images)\n\u001b[1;32m      4\u001b[0m         loss \u001b[39m=\u001b[39m loss_function(predictions, labels)\n",
      "\u001b[0;31mNameError\u001b[0m: name 'dataloader' is not defined"
     ]
    }
   ],
   "source": [
    "for epoch in range(10):\n",
    "    for i, (images, labels) in enumerate(dataloader):\n",
    "        predictions = model(images)\n",
    "        loss = loss_function(predictions, labels)\n",
    "        optimizer.zero_grad()\n",
    "        loss.backward()\n",
    "        optimizer.step()\n",
    "        print(loss.item())"
   ]
  },
  {
   "cell_type": "code",
   "execution_count": null,
   "metadata": {},
   "outputs": [],
   "source": [
    "torch.save(model, \"model.pt\")"
   ]
  }
 ],
 "metadata": {
  "kernelspec": {
   "display_name": "Python 3",
   "language": "python",
   "name": "python3"
  },
  "language_info": {
   "codemirror_mode": {
    "name": "ipython",
    "version": 3
   },
   "file_extension": ".py",
   "mimetype": "text/x-python",
   "name": "python",
   "nbconvert_exporter": "python",
   "pygments_lexer": "ipython3",
   "version": "3.9.6"
  },
  "orig_nbformat": 4
 },
 "nbformat": 4,
 "nbformat_minor": 2
}
